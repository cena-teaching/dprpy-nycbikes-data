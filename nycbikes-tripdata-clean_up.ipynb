{
 "cells": [
  {
   "cell_type": "code",
   "execution_count": 1,
   "id": "7a165343",
   "metadata": {},
   "outputs": [],
   "source": [
    "# Display options\n",
    "options(jupyter.rich_display = FALSE)"
   ]
  },
  {
   "cell_type": "code",
   "execution_count": 2,
   "id": "15ffa55b",
   "metadata": {},
   "outputs": [
    {
     "data": {
      "text/plain": [
       "[1] \"/home/anna/TEACHING/01_winter/dprpy-teachers/solutions/exercises_07\""
      ]
     },
     "metadata": {},
     "output_type": "display_data"
    }
   ],
   "source": [
    "# Let's check current working directory\n",
    "getwd()"
   ]
  },
  {
   "cell_type": "code",
   "execution_count": 3,
   "id": "f6a88448",
   "metadata": {},
   "outputs": [
    {
     "data": {
      "text/plain": [
       " [1] \"__MACOSX\"                         \"2013-citibike-tripdata\"          \n",
       " [3] \"2014-citibike-tripdata\"           \"2015-citibike-tripdata\"          \n",
       " [5] \"CRAN-packages-download-v2.R\"      \"CRAN-packages-download.R\"        \n",
       " [7] \"download.R\"                       \"exemple-nycbikes.R\"              \n",
       " [9] \"JC-201510-citibike-tripdata.csv\"  \"log-download.txt\"                \n",
       "[11] \"log-uzip.txt\"                     \"nycbikes-analysis.R\"             \n",
       "[13] \"nycbikes-data-exploration.ipynb\"  \"nycbikes-tripdata-clean_up.ipynb\"\n",
       "[15] \"nycbikes-tripdata-download.ipynb\" \"nycbikes-tripdata-download.R\"    "
      ]
     },
     "metadata": {},
     "output_type": "display_data"
    }
   ],
   "source": [
    "# Let's see what is in this directory\n",
    "list.files('.')"
   ]
  },
  {
   "cell_type": "code",
   "execution_count": 4,
   "id": "4e4c7776",
   "metadata": {},
   "outputs": [],
   "source": [
    "# We want to take all relevant nycbikes data and moved them into structured directory\n",
    "\n",
    "path = '.' # we know that our data are in our current working directory\n",
    "           # we can change it if we want\n",
    "# all data are stored in folowing folders after extracting from zip archives\n",
    "dirs <- file.path(path, c('2013-citibike-tripdata/', \n",
    "                          '2014-citibike-tripdata/',\n",
    "                          '2015-citibike-tripdata/'))"
   ]
  },
  {
   "cell_type": "code",
   "execution_count": 5,
   "id": "9fd8cce4",
   "metadata": {},
   "outputs": [],
   "source": [
    "# We will list all the data (with full path)\n",
    "files <- c(list.files(dirs[-1], recursive = TRUE, # we treat 2013 differently \n",
    "                      full.names = TRUE),         # because it is structured differently\n",
    "           list.files(dirs[1], pattern = '.csv', \n",
    "                      full.names = TRUE))"
   ]
  },
  {
   "cell_type": "code",
   "execution_count": 6,
   "id": "20053a03",
   "metadata": {},
   "outputs": [
    {
     "data": {
      "text/plain": [
       "[1] \"./2014-citibike-tripdata//1_January/201401-citibike-tripdata_1.csv\"  \n",
       "[2] \"./2014-citibike-tripdata//10_October/201410-citibike-tripdata_1.csv\" \n",
       "[3] \"./2014-citibike-tripdata//11_November/201411-citibike-tripdata_1.csv\"\n",
       "[4] \"./2014-citibike-tripdata//12_December/201412-citibike-tripdata_1.csv\"\n",
       "[5] \"./2014-citibike-tripdata//2_February/201402-citibike-tripdata_1.csv\" \n",
       "[6] \"./2014-citibike-tripdata//3_March/201403-citibike-tripdata_1.csv\"    "
      ]
     },
     "metadata": {},
     "output_type": "display_data"
    }
   ],
   "source": [
    "head(files) # let's take a look"
   ]
  },
  {
   "cell_type": "code",
   "execution_count": 7,
   "id": "e3961f07",
   "metadata": {},
   "outputs": [],
   "source": [
    "# Let's create the target directory for our data \n",
    "outdir <- file.path(path, 'nycbikes')\n",
    "if(!dir.exists(outdir)){\n",
    "    dir.create(outdir, recursive = TRUE)\n",
    "}"
   ]
  },
  {
   "cell_type": "code",
   "execution_count": 8,
   "id": "e583eb3b",
   "metadata": {},
   "outputs": [],
   "source": [
    "# Now it may be useful to split each year into separate subdirectory\n",
    "for (subdir in file.path(outdir, substr(dirs, 3, 6))){\n",
    "    dir.create(subdir)\n",
    "}"
   ]
  },
  {
   "cell_type": "code",
   "execution_count": 9,
   "id": "da82d68f",
   "metadata": {},
   "outputs": [],
   "source": [
    "# Here we create path that we want to use to move the data\n",
    "# i.e. target paths\n",
    "outfiles <- file.path(outdir, substr(basename(files), 1, 4), basename(files))"
   ]
  },
  {
   "cell_type": "code",
   "execution_count": 28,
   "id": "c9a45d8f",
   "metadata": {},
   "outputs": [
    {
     "data": {
      "text/plain": [
       " [1] \"./nycbikes/2014\" \"./nycbikes/2014\" \"./nycbikes/2014\" \"./nycbikes/2014\"\n",
       " [5] \"./nycbikes/2014\" \"./nycbikes/2014\" \"./nycbikes/2014\" \"./nycbikes/2014\"\n",
       " [9] \"./nycbikes/2014\" \"./nycbikes/2014\" \"./nycbikes/2014\" \"./nycbikes/2014\"\n",
       "[13] \"./nycbikes/2015\" \"./nycbikes/2015\" \"./nycbikes/2015\" \"./nycbikes/2015\"\n",
       "[17] \"./nycbikes/2015\" \"./nycbikes/2015\" \"./nycbikes/2015\" \"./nycbikes/2015\"\n",
       "[21] \"./nycbikes/2015\" \"./nycbikes/2015\" \"./nycbikes/2015\" \"./nycbikes/2015\"\n",
       "[25] \"./nycbikes/2015\" \"./nycbikes/2015\" \"./nycbikes/2015\" \"./nycbikes/2015\"\n",
       "[29] \"./nycbikes/2013\" \"./nycbikes/2013\" \"./nycbikes/2013\" \"./nycbikes/2013\"\n",
       "[33] \"./nycbikes/2013\" \"./nycbikes/2013\" \"./nycbikes/2013\""
      ]
     },
     "metadata": {},
     "output_type": "display_data"
    }
   ],
   "source": [
    "outfiles"
   ]
  },
  {
   "cell_type": "code",
   "execution_count": 10,
   "id": "9a96a732",
   "metadata": {},
   "outputs": [
    {
     "data": {
      "text/plain": [
       " [1] TRUE TRUE TRUE TRUE TRUE TRUE TRUE TRUE TRUE TRUE TRUE TRUE TRUE TRUE TRUE\n",
       "[16] TRUE TRUE TRUE TRUE TRUE TRUE TRUE TRUE TRUE TRUE TRUE TRUE TRUE TRUE TRUE\n",
       "[31] TRUE TRUE TRUE TRUE TRUE"
      ]
     },
     "metadata": {},
     "output_type": "display_data"
    }
   ],
   "source": [
    "# Here we will copy all files into apropriate subdirectory\n",
    "file.copy(files, outfiles)"
   ]
  },
  {
   "cell_type": "code",
   "execution_count": 11,
   "id": "69c44bd3",
   "metadata": {},
   "outputs": [
    {
     "data": {
      "text/plain": [
       " [1] TRUE TRUE TRUE TRUE TRUE TRUE TRUE TRUE TRUE TRUE TRUE TRUE TRUE TRUE TRUE\n",
       "[16] TRUE TRUE TRUE TRUE TRUE TRUE TRUE TRUE TRUE TRUE TRUE TRUE TRUE TRUE TRUE\n",
       "[31] TRUE TRUE TRUE TRUE TRUE"
      ]
     },
     "metadata": {},
     "output_type": "display_data"
    }
   ],
   "source": [
    "# Let's remove original files\n",
    "file.remove(files)"
   ]
  },
  {
   "cell_type": "code",
   "execution_count": 28,
   "id": "de7fa235",
   "metadata": {},
   "outputs": [
    {
     "data": {
      "text/plain": [
       "[1] TRUE TRUE TRUE"
      ]
     },
     "metadata": {},
     "output_type": "display_data"
    }
   ],
   "source": [
    "# In order to remove the data we no longer need\n",
    "# We have to remove all files first:\n",
    "file.remove(list.files(dirs, recursive = TRUE, full.names = TRUE, all.files = TRUE))"
   ]
  },
  {
   "cell_type": "code",
   "execution_count": 30,
   "id": "3a647daf",
   "metadata": {},
   "outputs": [
    {
     "data": {
      "text/plain": [
       "[1] TRUE TRUE TRUE"
      ]
     },
     "metadata": {},
     "output_type": "display_data"
    }
   ],
   "source": [
    "# Then directories\n",
    "file.remove(list.dirs(dirs, recursive = TRUE))"
   ]
  },
  {
   "cell_type": "code",
   "execution_count": 44,
   "id": "63801f7f",
   "metadata": {},
   "outputs": [],
   "source": [
    "# Let's compress the data\n",
    "library(R.utils)\n",
    "files <- list.files(outdir, recursive = TRUE, full.names = TRUE)\n",
    "for (f in files) gzip(f)"
   ]
  },
  {
   "cell_type": "code",
   "execution_count": 45,
   "id": "a9c1b28c",
   "metadata": {},
   "outputs": [
    {
     "data": {
      "text/plain": [
       " [1] \"./nycbikes/2013/201306-citibike-tripdata.csv.gz\"  \n",
       " [2] \"./nycbikes/2013/201307-citibike-tripdata.csv.gz\"  \n",
       " [3] \"./nycbikes/2013/201308-citibike-tripdata.csv.gz\"  \n",
       " [4] \"./nycbikes/2013/201309-citibike-tripdata.csv.gz\"  \n",
       " [5] \"./nycbikes/2013/201310-citibike-tripdata.csv.gz\"  \n",
       " [6] \"./nycbikes/2013/201311-citibike-tripdata.csv.gz\"  \n",
       " [7] \"./nycbikes/2013/201312-citibike-tripdata.csv.gz\"  \n",
       " [8] \"./nycbikes/2014/201401-citibike-tripdata_1.csv.gz\"\n",
       " [9] \"./nycbikes/2014/201402-citibike-tripdata_1.csv.gz\"\n",
       "[10] \"./nycbikes/2014/201403-citibike-tripdata_1.csv.gz\"\n",
       "[11] \"./nycbikes/2014/201404-citibike-tripdata_1.csv.gz\"\n",
       "[12] \"./nycbikes/2014/201405-citibike-tripdata_1.csv.gz\"\n",
       "[13] \"./nycbikes/2014/201406-citibike-tripdata_1.csv.gz\"\n",
       "[14] \"./nycbikes/2014/201407-citibike-tripdata_1.csv.gz\"\n",
       "[15] \"./nycbikes/2014/201408-citibike-tripdata_1.csv.gz\"\n",
       "[16] \"./nycbikes/2014/201409-citibike-tripdata_1.csv.gz\"\n",
       "[17] \"./nycbikes/2014/201410-citibike-tripdata_1.csv.gz\"\n",
       "[18] \"./nycbikes/2014/201411-citibike-tripdata_1.csv.gz\"\n",
       "[19] \"./nycbikes/2014/201412-citibike-tripdata_1.csv.gz\"\n",
       "[20] \"./nycbikes/2015/201501-citibike-tripdata_1.csv.gz\"\n",
       "[21] \"./nycbikes/2015/201502-citibike-tripdata_1.csv.gz\"\n",
       "[22] \"./nycbikes/2015/201503-citibike-tripdata_1.csv.gz\"\n",
       "[23] \"./nycbikes/2015/201504-citibike-tripdata_1.csv.gz\"\n",
       "[24] \"./nycbikes/2015/201505-citibike-tripdata_1.csv.gz\"\n",
       "[25] \"./nycbikes/2015/201506-citibike-tripdata_1.csv.gz\"\n",
       "[26] \"./nycbikes/2015/201507-citibike-tripdata_1.csv.gz\"\n",
       "[27] \"./nycbikes/2015/201507-citibike-tripdata_2.csv.gz\"\n",
       "[28] \"./nycbikes/2015/201508-citibike-tripdata_1.csv.gz\"\n",
       "[29] \"./nycbikes/2015/201508-citibike-tripdata_2.csv.gz\"\n",
       "[30] \"./nycbikes/2015/201509-citibike-tripdata_1.csv.gz\"\n",
       "[31] \"./nycbikes/2015/201509-citibike-tripdata_2.csv.gz\"\n",
       "[32] \"./nycbikes/2015/201510-citibike-tripdata_1.csv.gz\"\n",
       "[33] \"./nycbikes/2015/201510-citibike-tripdata_2.csv.gz\"\n",
       "[34] \"./nycbikes/2015/201511-citibike-tripdata_1.csv.gz\"\n",
       "[35] \"./nycbikes/2015/201512-citibike-tripdata_1.csv.gz\""
      ]
     },
     "metadata": {},
     "output_type": "display_data"
    }
   ],
   "source": [
    "list.files(outdir, recursive = TRUE, full.names = TRUE)"
   ]
  }
 ],
 "metadata": {
  "kernelspec": {
   "display_name": "R",
   "language": "R",
   "name": "ir"
  },
  "language_info": {
   "codemirror_mode": "r",
   "file_extension": ".r",
   "mimetype": "text/x-r-source",
   "name": "R",
   "pygments_lexer": "r",
   "version": "4.3.3"
  }
 },
 "nbformat": 4,
 "nbformat_minor": 5
}
