{
 "cells": [
  {
   "cell_type": "code",
   "execution_count": 1,
   "id": "f108285a",
   "metadata": {},
   "outputs": [],
   "source": [
    "# Import packages\n",
    "# Our standard set:\n",
    "import numpy as np\n",
    "import pandas as pd\n",
    "import os, os.path\n",
    "# Additionally we will need:\n",
    "import zipfile\n",
    "import requests\n",
    "import urllib.request\n",
    "# Progress bar:\n",
    "import tqdm"
   ]
  },
  {
   "cell_type": "code",
   "execution_count": 2,
   "id": "c176c039",
   "metadata": {},
   "outputs": [],
   "source": [
    "# 1.) We are generating data URLs;\n",
    "#     Note that each url is structured in the same manner, the year is the only\n",
    "#     variable here\n",
    "\n",
    "urls = [\n",
    "    'https://s3.amazonaws.com/tripdata/' + str(year) + '-citibike-tripdata.zip'\n",
    "    for year in range(2012, 2016)\n",
    "]"
   ]
  },
  {
   "cell_type": "code",
   "execution_count": 3,
   "id": "ae8cc4f2",
   "metadata": {},
   "outputs": [
    {
     "data": {
      "text/plain": [
       "['https://s3.amazonaws.com/tripdata/2012-citibike-tripdata.zip',\n",
       " 'https://s3.amazonaws.com/tripdata/2013-citibike-tripdata.zip',\n",
       " 'https://s3.amazonaws.com/tripdata/2014-citibike-tripdata.zip',\n",
       " 'https://s3.amazonaws.com/tripdata/2015-citibike-tripdata.zip']"
      ]
     },
     "execution_count": 3,
     "metadata": {},
     "output_type": "execute_result"
    }
   ],
   "source": [
    "urls"
   ]
  },
  {
   "cell_type": "code",
   "execution_count": 4,
   "id": "dfcd2d3b",
   "metadata": {},
   "outputs": [],
   "source": [
    "# We are preparing files to record potential errors / problems\n",
    "\n",
    "download_log = \"log-download.txt\"\n",
    "uznip_log = \"log-uzip.txt\""
   ]
  },
  {
   "cell_type": "code",
   "execution_count": 5,
   "id": "c884c1fe",
   "metadata": {},
   "outputs": [
    {
     "name": "stderr",
     "output_type": "stream",
     "text": [
      "100%|████████████████████████████████████████████████████████████████████| 4/4 [00:00<00:00,  4.66it/s]"
     ]
    },
    {
     "name": "stdout",
     "output_type": "stream",
     "text": [
      "2013-citibike-tripdata : done\n",
      "2014-citibike-tripdata : done\n",
      "2015-citibike-tripdata : done\n"
     ]
    },
    {
     "name": "stderr",
     "output_type": "stream",
     "text": [
      "\n"
     ]
    }
   ],
   "source": [
    "# 2.) Download the file\n",
    "\n",
    "for url in tqdm.tqdm(urls):\n",
    "    # Extract the name of the zip archive\n",
    "    filename = url.split('/')[-1]\n",
    "    # note that the file name is the last part of url\n",
    "    \n",
    "    # if file exists already -> we can skip it\n",
    "    if os.path.exists(filename[:-4]): # we will omit '.zip' part\n",
    "        print(filename[:-4], ': done')\n",
    "        continue\n",
    "        \n",
    "    try: # try to download the data\n",
    "        urllib.request.urlretrieve(url, filename)\n",
    "    except Exception as e: # if exception is risen -> input info into log file\n",
    "        with open(download_log, 'a') as f:\n",
    "            print(url, file = f)\n",
    "            print(e, file = f)\n",
    "\n",
    "    # Extract all data in zip archive\n",
    "    try: \n",
    "        with zipfile.ZipFile(filename, 'r') as zip_ref:\n",
    "            zip_ref.extractall('.')\n",
    "    except Exception as e: \n",
    "        with open(uznip_log, 'a') as f:\n",
    "            print(filename, file = f)\n",
    "            print(e, file = f)\n",
    "        "
   ]
  },
  {
   "cell_type": "code",
   "execution_count": 8,
   "id": "f3a32aa0",
   "metadata": {},
   "outputs": [
    {
     "data": {
      "text/plain": [
       "['2013-citibike-tripdata.zip',\n",
       " '2015-citibike-tripdata.zip',\n",
       " '2014-citibike-tripdata.zip']"
      ]
     },
     "execution_count": 8,
     "metadata": {},
     "output_type": "execute_result"
    }
   ],
   "source": [
    "# 3.) Clean up\n",
    "#     Remove the zip archive\n",
    "\n",
    "zipfiles = [f for f in os.listdir() if f.endswith('.zip')]\n",
    "zipfiles"
   ]
  }
 ],
 "metadata": {
  "kernelspec": {
   "display_name": "Python 3 (ipykernel)",
   "language": "python",
   "name": "python3"
  },
  "language_info": {
   "codemirror_mode": {
    "name": "ipython",
    "version": 3
   },
   "file_extension": ".py",
   "mimetype": "text/x-python",
   "name": "python",
   "nbconvert_exporter": "python",
   "pygments_lexer": "ipython3",
   "version": "3.12.3"
  }
 },
 "nbformat": 4,
 "nbformat_minor": 5
}
